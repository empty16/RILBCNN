{
 "cells": [
  {
   "cell_type": "code",
   "execution_count": 2,
   "metadata": {
    "collapsed": false,
    "scrolled": true
   },
   "outputs": [
    {
     "data": {
      "text/plain": [
       "train.txt file is processing...\t\n"
      ]
     },
     "execution_count": 2,
     "metadata": {},
     "output_type": "execute_result"
    },
    {
     "data": {
      "text/plain": [
       "train.txt file is done!\t"
      ]
     },
     "execution_count": 2,
     "metadata": {},
     "output_type": "execute_result"
    },
    {
     "data": {
      "text/plain": [
       "\n",
       "test.txt file is processing...\t\n"
      ]
     },
     "execution_count": 2,
     "metadata": {},
     "output_type": "execute_result"
    },
    {
     "data": {
      "text/plain": [
       "test.txt file is done!\t\n",
       "{\n",
       "  trainData : \n",
       "    {\n",
       "      data : DoubleTensor - size: 9600x3x32x32\n"
      ]
     },
     "execution_count": 2,
     "metadata": {},
     "output_type": "execute_result"
    },
    {
     "data": {
      "text/plain": [
       "      labels : ByteTensor - size: 9600\n",
       "    }\n",
       "  testData : \n",
       "    {\n",
       "      data : DoubleTensor - size: 76800x3x32x32\n",
       "      labels : ByteTensor - size: 76800\n",
       "    }\n",
       "}\n",
       "Saving crop to .t7 file\t\n"
      ]
     },
     "execution_count": 2,
     "metadata": {},
     "output_type": "execute_result"
    }
   ],
   "source": [
    "require 'torch'\n",
    "require 'io'\n",
    "require 'image'\n",
    "\n",
    "local data_type = 'rot'\n",
    "local baseFolder = '/root/Workspace/Datasets/Outex/Outex-TC-00010/'\n",
    "local fileFolder = baseFolder .. '000/'\n",
    "local imageList = {'train.txt', 'test.txt'}\n",
    "local imageFolder = baseFolder .. 'images/'\n",
    "local imageSize = 128\n",
    "local dstImageSize = 32\n",
    "-- creat the gray image Tensor, channels = 3\n",
    "srcImage = torch.DoubleTensor(3, imageSize, imageSize)\n",
    "dstImage = torch.DoubleTensor(3, dstImageSize, dstImageSize)\n",
    "\n",
    "\n",
    "-- regular: scale, crop: data augmentation x20\n",
    "local dataMode = 'crop'\n",
    "if dataMode == 'regular' then\n",
    "    nFactor = 1\n",
    "    if data_type == 'ori' then\n",
    "        outputFname = baseFolder .. 'Outex-24-ori.t7'\n",
    "    elseif data_type == 'rot' then\n",
    "        outputFname = baseFolder .. 'Outex-24-rot.t7'\n",
    "    else\n",
    "        print('Unknown data type... ')\n",
    "    end    \n",
    "elseif dataMode == 'crop' then\n",
    "    nFactor = 20\n",
    "    if data_type == 'ori' then\n",
    "        outputFname = baseFolder .. 'Outex-24-ori-aug.t7'\n",
    "    elseif data_type == 'rot' then\n",
    "        outputFname = baseFolder .. 'Outex-24-rot-aug.t7'\n",
    "    else\n",
    "        print('Unknown data type... ')\n",
    "    end\n",
    "    \n",
    "else\n",
    "    error(dataMode .. ': not implementation!')\n",
    "end \n",
    "    \n",
    "for key, val in pairs(imageList) do\n",
    "    local nSamples = 0\n",
    "    local count = 0\n",
    "    local imageIndex = 1\n",
    "    local imageFileList = fileFolder .. val\n",
    "    local rfile = io.open(imageFileList, 'r')\n",
    "    assert(rfile)\n",
    "    print(val .. ' file is processing...')\n",
    "    \n",
    "    -- line operation in imageFile\n",
    "    for line in rfile:lines() do\n",
    "        count = count + 1\n",
    "        if count == 1 then\n",
    "            nSamples = tonumber(line)\n",
    "            if 'train.txt' == val then\n",
    "                trainData = {\n",
    "                    data = torch.DoubleTensor(nSamples*nFactor, 3, dstImageSize, dstImageSize),\n",
    "                    labels = torch.ByteTensor(nSamples*nFactor)\n",
    "                }\n",
    "\n",
    "            elseif 'test.txt' == val then\n",
    "                testData = {\n",
    "                    data = torch.DoubleTensor(nSamples*nFactor, 3, dstImageSize, dstImageSize),\n",
    "                    labels = torch.ByteTensor(nSamples*nFactor)\n",
    "                }\n",
    "\n",
    "            else\n",
    "                error(val .. ': not implementation!')\n",
    "            end\n",
    "        else\n",
    "            -- get image filename\n",
    "            imageName, tempLabel = unpack(line:split(' '))            \n",
    "            jpgName = (string.gsub(imageName, '.bmp', '.jpg'))\n",
    "            srcImgs = image.load(imageFolder .. jpgName)\n",
    "\n",
    "            if dataMode == 'regular' then\n",
    "                dstImage = image.scale(srcImgs, dstImageSize, dstImageSize)\n",
    "                idx = imageIndex\n",
    "                if 'train.txt' == val then                    \n",
    "                    trainData.data[idx]:copy(dstImage)\n",
    "                    trainData.labels[idx] = tempLabel + 1\n",
    "\n",
    "                elseif 'test.txt' == val then\n",
    "                    testData.data[idx]:copy(dstImage)\n",
    "                    testData.labels[idx] = tempLabel + 1\n",
    "\n",
    "                else\n",
    "                    error(val .. ': not implementation!')\n",
    "                end\n",
    "\n",
    "            elseif dataMode == 'crop' then\n",
    "                for i = 1, nFactor do\n",
    "                    x1 = math.random(0, imageSize - dstImageSize)\n",
    "                    dstImage = image.crop(srcImgs, x1, x1, x1 + dstImageSize, x1 + dstImageSize)\n",
    "                    idx = (imageIndex - 1) * nFactor + i\n",
    "                    if 'train.txt' == val then                    \n",
    "                        trainData.data[idx]:copy(dstImage)\n",
    "                        trainData.labels[idx] = tempLabel + 1\n",
    "\n",
    "                    elseif 'test.txt' == val then\n",
    "                        testData.data[idx]:copy(dstImage)\n",
    "                        testData.labels[idx] = tempLabel + 1\n",
    "                    else\n",
    "                        error(val .. ': not implementation!')\n",
    "                    end\n",
    "                end\n",
    "            else\n",
    "                error(dataMode .. ': not implementation!')\n",
    "            end\n",
    "            imageIndex = imageIndex + 1\n",
    "        end\n",
    "\n",
    "    end -- end for\n",
    "   \n",
    "    print(val .. ' file is done!')\n",
    "end \n",
    "local output = {}\n",
    "output.trainData = trainData\n",
    "output.testData = testData   \n",
    "\n",
    "print(output)\n",
    "print('Saving ' .. dataMode .. ' to .t7 file')\n",
    "torch.save(outputFname, output)\n"
   ]
  },
  {
   "cell_type": "code",
   "execution_count": 1,
   "metadata": {
    "collapsed": false
   },
   "outputs": [
    {
     "data": {
      "text/plain": [
       "{\n",
       "  trainData : \n",
       "    {\n",
       "      data : DoubleTensor - size: 9600x3x32x32\n",
       "      "
      ]
     },
     "execution_count": 1,
     "metadata": {},
     "output_type": "execute_result"
    },
    {
     "data": {
      "text/plain": [
       "labels : ByteTensor - size: 9600\n",
       "    }\n",
       "  testData : \n",
       "    {\n",
       "      data : DoubleTensor - size: 9600x3x32x32\n",
       "      labels : ByteTensor - size: 9600\n",
       "    }\n",
       "}\n",
       "  3\n",
       " 32\n",
       " 32\n",
       "[torch.LongStorage of size 3]\n",
       "\n"
      ]
     },
     "execution_count": 1,
     "metadata": {},
     "output_type": "execute_result"
    }
   ],
   "source": [
    "local dataFile = '/root/Workspace/zhangxin/RILBCNN.torch/demo/datasets/Outex-24-ori-aug.t7'\n",
    "-- Outex-24-ori.t7\n",
    "provider = torch.load(dataFile)\n",
    "print(provider)\n",
    "print(provider.testData.data[1]:size())"
   ]
  },
  {
   "cell_type": "code",
   "execution_count": 4,
   "metadata": {
    "collapsed": false
   },
   "outputs": [
    {
     "data": {
      "text/plain": [
       "original data: \t{\n",
       "  trainData : \n",
       "    {\n",
       "      data : DoubleTensor - size: 9600x3x32x32\n",
       " "
      ]
     },
     "execution_count": 4,
     "metadata": {},
     "output_type": "execute_result"
    },
    {
     "data": {
      "text/plain": [
       "     labels : ByteTensor - size: 9600\n",
       "    }\n",
       "  testData : \n",
       "    {\n",
       "      data : DoubleTensor - size: 9600x3x32x32\n",
       "      labels : ByteTensor - size: 9600\n",
       "    }\n",
       "}\n"
      ]
     },
     "execution_count": 4,
     "metadata": {},
     "output_type": "execute_result"
    },
    {
     "data": {
      "text/plain": [
       "rotation data: \t"
      ]
     },
     "execution_count": 4,
     "metadata": {},
     "output_type": "execute_result"
    },
    {
     "data": {
      "text/plain": [
       "{\n",
       "  trainData : \n",
       "    {\n",
       "      data : DoubleTensor - size: 9600x3x32x32\n",
       "      labels : ByteTensor - size: 9600\n",
       "    }\n",
       "  testData : \n",
       "    {\n",
       "      data : DoubleTensor - size: 76800x3x32x32\n",
       "      labels : ByteTensor - size: 76800\n",
       "    }\n",
       "}\n"
      ]
     },
     "execution_count": 4,
     "metadata": {},
     "output_type": "execute_result"
    },
    {
     "data": {
      "text/plain": [
       "ori2rot data: \t{\n",
       "  trainData : \n",
       "    {\n",
       "      data : DoubleTensor - size: 19200x3x32x32\n",
       "      labels : ByteTensor - size: 19200\n",
       "    }\n",
       "  testData : \n",
       "    {\n",
       "      data : DoubleTensor - size: 86400x3x32x32\n",
       "      labels : ByteTensor - size: 86400\n",
       "    }\n",
       "}\n"
      ]
     },
     "execution_count": 4,
     "metadata": {},
     "output_type": "execute_result"
    },
    {
     "data": {
      "text/plain": [
       "Done\t\n"
      ]
     },
     "execution_count": 4,
     "metadata": {},
     "output_type": "execute_result"
    }
   ],
   "source": [
    "-- original to rotation dataset generator\n",
    "require 'torch'\n",
    "local oriFile = '/root/Workspace/zhangxin/RILBCNN.torch/demo/datasets/Outex-24-ori-aug.t7'\n",
    "local rotFile = '/root/Workspace/zhangxin/RILBCNN.torch/demo/datasets/Outex-24-rot-aug.t7'\n",
    "local ori2rotFile = '/root/Workspace/zhangxin/RILBCNN.torch/demo/datasets/Outex-24-ori2rot-aug.t7'\n",
    "\n",
    "trainProvider = torch.load(oriFile)\n",
    "testProvider = torch.load(rotFile)\n",
    "\n",
    "trainData = {\n",
    "    data = torch.DoubleTensor(19200, 3, 32, 32),\n",
    "    labels = torch.ByteTensor(19200)\n",
    "    }\n",
    "testData = {\n",
    "    data = torch.DoubleTensor(86400, 3, 32, 32),\n",
    "    labels = torch.ByteTensor(86400)\n",
    "}\n",
    "\n",
    "print('original data: ', trainProvider)\n",
    "for i = 1, 9600 do\n",
    "    trainData.data[i]:copy(trainProvider.trainData.data[i])\n",
    "    trainData.labels[i]=trainProvider.trainData.labels[i]\n",
    "end\n",
    "\n",
    "for i = 1, 9600 do\n",
    "    index = i + 9600\n",
    "    trainData.data[index]:copy(trainProvider.testData.data[i])\n",
    "    trainData.labels[index]=trainProvider.testData.labels[i]\n",
    "end\n",
    "\n",
    "print('rotation data: ', testProvider)\n",
    "-- rot test data\n",
    "for i = 1, 9600 do\n",
    "    testData.data[i]:copy(testProvider.trainData.data[i])\n",
    "    testData.labels[i]=testProvider.trainData.labels[i]    \n",
    "end\n",
    "\n",
    "for i = 1, 76800 do\n",
    "    index = i + 9600\n",
    "    testData.data[index]:copy(testProvider.testData.data[i])\n",
    "    testData.labels[index]=testProvider.testData.labels[i]    \n",
    "end\n",
    "\n",
    "output = {}\n",
    "output.trainData = trainData\n",
    "output.testData = testData\n",
    "\n",
    "print('ori2rot data: ', output)\n",
    "\n",
    "torch.save(ori2rotFile, output)\n",
    "print('Done')"
   ]
  },
  {
   "cell_type": "code",
   "execution_count": 19,
   "metadata": {
    "collapsed": false
   },
   "outputs": [
    {
     "data": {
      "image/png": "[encoded data removed]",
      "text/plain": [
       "Console does not support images"
      ]
     },
     "metadata": {
      "image/png": {
       "height": 128,
       "width": 128
      }
     },
     "output_type": "display_data"
    },
    {
     "data": {
      "text/plain": [
       "1/1\t\n"
      ]
     },
     "execution_count": 19,
     "metadata": {},
     "output_type": "execute_result"
    },
    {
     "data": {
      "image/png": "[encoded data removed]",
      "text/plain": [
       "Console does not support images"
      ]
     },
     "metadata": {
      "image/png": {
       "height": 32,
       "width": 32
      }
     },
     "output_type": "display_data"
    },
    {
     "data": {
      "text/plain": [
       "2/80\t\n"
      ]
     },
     "execution_count": 19,
     "metadata": {},
     "output_type": "execute_result"
    },
    {
     "data": {
      "image/png": "[encoded data removed]",
      "text/plain": [
       "Console does not support images"
      ]
     },
     "metadata": {
      "image/png": {
       "height": 32,
       "width": 32
      }
     },
     "output_type": "display_data"
    },
    {
     "data": {
      "text/plain": [
       "3/31\t\n"
      ]
     },
     "execution_count": 19,
     "metadata": {},
     "output_type": "execute_result"
    },
    {
     "data": {
      "image/png": "[encoded data removed]",
      "text/plain": [
       "Console does not support images"
      ]
     },
     "metadata": {
      "image/png": {
       "height": 32,
       "width": 32
      }
     },
     "output_type": "display_data"
    },
    {
     "data": {
      "text/plain": [
       "4/75\t\n"
      ]
     },
     "execution_count": 19,
     "metadata": {},
     "output_type": "execute_result"
    },
    {
     "data": {
      "image/png": "[encoded data removed]",
      "text/plain": [
       "Console does not support images"
      ]
     },
     "metadata": {
      "image/png": {
       "height": 32,
       "width": 32
      }
     },
     "output_type": "display_data"
    },
    {
     "data": {
      "text/plain": [
       "5/79\t\n"
      ]
     },
     "execution_count": 19,
     "metadata": {},
     "output_type": "execute_result"
    },
    {
     "data": {
      "image/png": "[encoded data removed]",
      "text/plain": [
       "Console does not support images"
      ]
     },
     "metadata": {
      "image/png": {
       "height": 32,
       "width": 32
      }
     },
     "output_type": "display_data"
    },
    {
     "data": {
      "text/plain": [
       "6/57\t\n"
      ]
     },
     "execution_count": 19,
     "metadata": {},
     "output_type": "execute_result"
    },
    {
     "data": {
      "text/plain": [
       "7/11\t\n"
      ]
     },
     "execution_count": 19,
     "metadata": {},
     "output_type": "execute_result"
    },
    {
     "data": {
      "image/png": "[encoded data removed]",
      "text/plain": [
       "Console does not support images"
      ]
     },
     "metadata": {
      "image/png": {
       "height": 32,
       "width": 32
      }
     },
     "output_type": "display_data"
    },
    {
     "data": {
      "image/png": "[encoded data removed]",
      "text/plain": [
       "Console does not support images"
      ]
     },
     "metadata": {
      "image/png": {
       "height": 32,
       "width": 32
      }
     },
     "output_type": "display_data"
    },
    {
     "data": {
      "text/plain": [
       "8/91\t\n"
      ]
     },
     "execution_count": 19,
     "metadata": {},
     "output_type": "execute_result"
    },
    {
     "data": {
      "image/png": "[encoded data removed]",
      "text/plain": [
       "Console does not support images"
      ]
     },
     "metadata": {
      "image/png": {
       "height": 32,
       "width": 32
      }
     },
     "output_type": "display_data"
    },
    {
     "data": {
      "text/plain": [
       "9/28\t\n"
      ]
     },
     "execution_count": 19,
     "metadata": {},
     "output_type": "execute_result"
    },
    {
     "data": {
      "image/png": "[encoded data removed]",
      "text/plain": [
       "Console does not support images"
      ]
     },
     "metadata": {
      "image/png": {
       "height": 32,
       "width": 32
      }
     },
     "output_type": "display_data"
    },
    {
     "data": {
      "text/plain": [
       "10/87\t\n"
      ]
     },
     "execution_count": 19,
     "metadata": {},
     "output_type": "execute_result"
    },
    {
     "data": {
      "image/png": "[encoded data removed]",
      "text/plain": [
       "Console does not support images"
      ]
     },
     "metadata": {
      "image/png": {
       "height": 32,
       "width": 32
      }
     },
     "output_type": "display_data"
    }
   ],
   "source": [
    "require 'os'\n",
    "imagePath = '/root/Workspace/Datasets/Outex/Outex-TC-00010/images/000000.jpg'\n",
    "srcImageSize = 128\n",
    "dstImageSize = 32\n",
    "srcImg = torch.DoubleTensor(3, srcImageSize, srcImageSize)\n",
    "dstImg = torch.DoubleTensor(3, dstImageSize, dstImageSize)\n",
    "\n",
    "srcImg = image.load(imagePath)\n",
    "itorch.image(srcImg)\n",
    "\n",
    "for i = 1, 10 do\n",
    "    x1 = math.random(0, 128 - 32)\n",
    "    print(i .. '/' .. x1)\n",
    "    dstImg = image.crop(srcImg, x1, x1, x1 + 32, x1 + 32)\n",
    "    itorch.image(dstImg)\n",
    "end\n"
   ]
  },
  {
   "cell_type": "code",
   "execution_count": 17,
   "metadata": {
    "collapsed": false
   },
   "outputs": [
    {
     "data": {
      "text/plain": [
       "76-99.67-20171211171044.t7\t\n"
      ]
     },
     "execution_count": 17,
     "metadata": {},
     "output_type": "execute_result"
    },
    {
     "ename": "cannot open <76-99.67-20171211171044.t7> in mode r  at /root/Util/torch/pkg/torch/lib/TH/THDiskFile.c:673\nstack traceback:\n\t[C]: at 0x7fb1af061710\n\t[C]: in function 'DiskFile'\n\t/root/Util/torch/install/share/lua/5.1/torch/File.lua:405: in function 'load'\n\t[string \"require 'paths'...\"]:6: in main chunk\n\t[C]: in function 'xpcall'\n\t/root/Util/torch/install/share/lua/5.1/itorch/main.lua:210: in function </root/Util/torch/install/share/lua/5.1/itorch/main.lua:174>\n\t/root/Util/torch/install/share/lua/5.1/lzmq/poller.lua:80: in function 'poll'\n\t/root/Util/torch/install/share/lua/5.1/lzmq/impl/loop.lua:307: in function 'poll'\n\t/root/Util/torch/install/share/lua/5.1/lzmq/impl/loop.lua:325: in function 'sleep_ex'\n\t/root/Util/torch/install/share/lua/5.1/lzmq/impl/loop.lua:370: in function 'start'\n\t/root/Util/torch/install/share/lua/5.1/itorch/main.lua:389: in main chunk\n\t[C]: in function 'require'\n\t(command line):1: in main chunk\n\t[C]: at 0x00406670",
     "evalue": "",
     "output_type": "error",
     "traceback": [
      "cannot open <76-99.67-20171211171044.t7> in mode r  at /root/Util/torch/pkg/torch/lib/TH/THDiskFile.c:673\nstack traceback:\n\t[C]: at 0x7fb1af061710\n\t[C]: in function 'DiskFile'\n\t/root/Util/torch/install/share/lua/5.1/torch/File.lua:405: in function 'load'\n\t[string \"require 'paths'...\"]:6: in main chunk\n\t[C]: in function 'xpcall'\n\t/root/Util/torch/install/share/lua/5.1/itorch/main.lua:210: in function </root/Util/torch/install/share/lua/5.1/itorch/main.lua:174>\n\t/root/Util/torch/install/share/lua/5.1/lzmq/poller.lua:80: in function 'poll'\n\t/root/Util/torch/install/share/lua/5.1/lzmq/impl/loop.lua:307: in function 'poll'\n\t/root/Util/torch/install/share/lua/5.1/lzmq/impl/loop.lua:325: in function 'sleep_ex'\n\t/root/Util/torch/install/share/lua/5.1/lzmq/impl/loop.lua:370: in function 'start'\n\t/root/Util/torch/install/share/lua/5.1/itorch/main.lua:389: in main chunk\n\t[C]: in function 'require'\n\t(command line):1: in main chunk\n\t[C]: at 0x00406670"
     ]
    }
   ],
   "source": [
    "require 'paths'\n",
    "savePath = '/root/Workspace/zhangxin/RILBCNN.torch/demo/logs/Outex_24_rot_aug_CNN'\n",
    "for file in paths.files(savePath) do\n",
    "    if string.find(file, '.t7') then\n",
    "        print(file)\n",
    "        model = torch.load(file)\n",
    "    end\n",
    "end"
   ]
  },
  {
   "cell_type": "code",
   "execution_count": 10,
   "metadata": {
    "collapsed": false
   },
   "outputs": [
    {
     "data": {
      "text/plain": [
       "{\n",
       "  getregistryvalue : function: 0x4173be60\n",
       "  is_mac : function: 0x41e361a8\n",
       "  mkdir : function: 0x41e289b8\n",
       "  dirp : function: 0x41e2d810\n",
       "  execdir : function: 0x41e2d7d8\n",
       "  dir : function: 0x41e28a68\n",
       "  extname : function: 0x41e28a20\n",
       "  tmpname : function: 0x41e28990\n",
       "  uname : function: 0x4173be38\n",
       "  dirname : function: 0x41e289f8\n",
       "  basename : function: 0x41e2d838\n",
       "  findprogram : function: 0x41e36380\n",
       "  files : function: 0x41e36238\n",
       "  filep : function: 0x41e2d7b0\n"
      ]
     },
     "execution_count": 10,
     "metadata": {},
     "output_type": "execute_result"
    },
    {
     "data": {
      "text/plain": [
       "  require : function: 0x4173be88\n",
       "  dofile : function: 0x41e36320\n",
       "  thisfile : function: 0x41e362b8\n",
       "  iterfiles : function: 0x41e36298\n",
       "  concat : function: 0x4173bf20\n",
       "  iterdirs : function: 0x41e36278\n",
       "  rmall : function: 0x41e36340\n",
       "  home : /root\n",
       "  rmdir : function: 0x4173be10\n",
       "  cwd : function: 0x4173bed8\n",
       "  is_win : function: 0x4173beb0\n",
       "}\n"
      ]
     },
     "execution_count": 10,
     "metadata": {},
     "output_type": "execute_result"
    }
   ],
   "source": [
    "require 'paths'"
   ]
  },
  {
   "cell_type": "code",
   "execution_count": null,
   "metadata": {
    "collapsed": true
   },
   "outputs": [],
   "source": []
  }
 ],
 "metadata": {
  "kernelspec": {
   "display_name": "iTorch",
   "language": "lua",
   "name": "itorch"
  },
  "language_info": {
   "name": "lua",
   "version": "5.1"
  },
  "ssap_exp_config": {
   "error_alert": "Error Occurs!",
   "initial": [],
   "max_iteration": 1000,
   "recv_id": "",
   "running": [],
   "summary": [],
   "version": "1.1.1"
  }
 },
 "nbformat": 4,
 "nbformat_minor": 0
}
