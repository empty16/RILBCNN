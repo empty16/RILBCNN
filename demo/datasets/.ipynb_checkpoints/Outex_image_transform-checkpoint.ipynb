{
 "cells": [
  {
   "cell_type": "code",
   "execution_count": null,
   "metadata": {
    "collapsed": true
   },
   "outputs": [],
   "source": [
    "# transform the bmp file to the jpg\n",
    "%matplotlib notebook\n",
    "import cv2\n",
    "import os\n",
    "import numpy as np\n",
    "import matplotlib.pyplot as plt\n",
    "\n",
    "base_folder = '/root/Workspace/Datasets/Outex/'\n",
    "scence_id = ['Outex-TC-00010', 'Outex_TC_00011-r']\n",
    "\n",
    "\n",
    "for i in xrange(len(scence_id)):\n",
    "    img_folder = base_folder + set_id[i]\n",
    "    img_folder += '/images/'\n",
    "    count = 0\n",
    "    for fid in os.listdir(img_folder):\n",
    "        if fid.endswith('.jpg'):\n",
    "            os.rename(img_folder + fid, img_folder +  fid.replace('.jpg', '-c3.jpg'))\n",
    "            im = cv2.imread(img_folder + fid.replace('.jpg', '.bmp'))\n",
    "            im_data = cv2.cvtColor(im, cv2.COLOR_BGR2GRAY)\n",
    "            cv2.imwrite(img_folder + fid, im_data)\n",
    "                \n",
    "\n",
    "img_path = '/root/Workspace/Datasets/Outex/Outex-TC-00010/images/000000.bmp'\n",
    "img_data = cv2.imread(img_path)\n",
    "a = cv2.cvtColor(img_data, cv2.COLOR_BGR2GRAY)\n",
    "print a.shape"
   ]
  },
  {
   "cell_type": "code",
   "execution_count": null,
   "metadata": {
    "collapsed": true
   },
   "outputs": [],
   "source": []
  }
 ],
 "metadata": {
  "kernelspec": {
   "display_name": "Python 2",
   "language": "python",
   "name": "python2"
  },
  "language_info": {
   "codemirror_mode": {
    "name": "ipython",
    "version": 2
   },
   "file_extension": ".py",
   "mimetype": "text/x-python",
   "name": "python",
   "nbconvert_exporter": "python",
   "pygments_lexer": "ipython2",
   "version": "2.7.12"
  },
  "ssap_exp_config": {
   "error_alert": "Error Occurs!",
   "initial": [],
   "max_iteration": 1000,
   "recv_id": "",
   "running": [],
   "summary": [],
   "version": "1.1.1"
  }
 },
 "nbformat": 4,
 "nbformat_minor": 0
}
